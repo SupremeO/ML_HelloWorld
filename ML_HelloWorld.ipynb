{
  "nbformat": 4,
  "nbformat_minor": 0,
  "metadata": {
    "colab": {
      "name": "ML_HelloWorld.ipynb",
      "version": "0.3.2",
      "provenance": [],
      "collapsed_sections": []
    },
    "kernelspec": {
      "name": "python3",
      "display_name": "Python 3"
    }
  },
  "cells": [
    {
      "metadata": {
        "id": "wzxRQxNucLmT",
        "colab_type": "code",
        "colab": {}
      },
      "cell_type": "code",
      "source": [
        "# Import libraries needed\n",
        "from sklearn import datasets\n",
        "import pandas as pd\n",
        "import numpy as np\n",
        "from sklearn.ensemble import RandomForestClassifier\n",
        "from sklearn.metrics import accuracy_score\n",
        "from sklearn.model_selection import train_test_split\n",
        "from sklearn.linear_model import LogisticRegression"
      ],
      "execution_count": 0,
      "outputs": []
    },
    {
      "metadata": {
        "id": "-C0r0mnck2gB",
        "colab_type": "code",
        "colab": {
          "base_uri": "https://localhost:8080/",
          "height": 55
        },
        "outputId": "5f7b215b-b8c6-4af0-b210-5864cc8a85a6"
      },
      "cell_type": "code",
      "source": [
        "# Get the iris Dataset\n",
        "ds = datasets.load_iris()\n",
        "\n",
        "print('label_names: {}'.format(ds.target_names))\n",
        "print('feature_names: {}'.format(ds.feature_names))"
      ],
      "execution_count": 46,
      "outputs": [
        {
          "output_type": "stream",
          "text": [
            "label_names: ['setosa' 'versicolor' 'virginica']\n",
            "feature_names: ['sepal length (cm)', 'sepal width (cm)', 'petal length (cm)', 'petal width (cm)']\n"
          ],
          "name": "stdout"
        }
      ]
    },
    {
      "metadata": {
        "id": "QIqLwtDUoaFP",
        "colab_type": "code",
        "colab": {
          "base_uri": "https://localhost:8080/",
          "height": 74
        },
        "outputId": "5976097a-65a4-42eb-fb44-2d7a6766bf36"
      },
      "cell_type": "code",
      "source": [
        "X = ds.data\n",
        "y = ds.target\n",
        "\n",
        "print('{}\\n{}'.format(X.shape,y.shape)) # check dimensions of datasets\n",
        "print('Missing Data: {}'.format(np.isnan(X).sum())) # check for missing data"
      ],
      "execution_count": 47,
      "outputs": [
        {
          "output_type": "stream",
          "text": [
            "(150, 4)\n",
            "(150,)\n",
            "Missing Data: 0\n"
          ],
          "name": "stdout"
        }
      ]
    },
    {
      "metadata": {
        "id": "1B8jmOAqqBmm",
        "colab_type": "code",
        "colab": {
          "base_uri": "https://localhost:8080/",
          "height": 36
        },
        "outputId": "a46a0eb4-5f85-4e43-dd25-31bcff02400b"
      },
      "cell_type": "code",
      "source": [
        "X_train, X_test, y_train, y_test = train_test_split(X,y,test_size = 0.15,random_state = 0)\n",
        "\n",
        "clf = RandomForestClassifier(n_estimators = 100)\n",
        "\n",
        "clf.fit(X_train,y_train)\n",
        "\n",
        "predictions = clf.predict(X_test)\n",
        "\n",
        "print('RF_Accuracy: {}'.format(accuracy_score(y_test,predictions)))"
      ],
      "execution_count": 48,
      "outputs": [
        {
          "output_type": "stream",
          "text": [
            "RF_Accuracy: 1.0\n"
          ],
          "name": "stdout"
        }
      ]
    },
    {
      "metadata": {
        "id": "3XZemgSP54bm",
        "colab_type": "text"
      },
      "cell_type": "markdown",
      "source": [
        "After training with Random Forest, the accuracy was 100%. mind you that this dataset is somewhat a 'perfect' dataset and hence the high accuracy. We also did not do any data preprocessing as this was not needed. Most real world datasets are crude and hence need some level of preprocessing and feature engineering. "
      ]
    },
    {
      "metadata": {
        "id": "NEdvP2vxrVRe",
        "colab_type": "code",
        "colab": {
          "base_uri": "https://localhost:8080/",
          "height": 36
        },
        "outputId": "8bc4f72c-c758-4d1e-e0b7-df5a01485e93"
      },
      "cell_type": "code",
      "source": [
        "clf = LogisticRegression()\n",
        "clf.fit(X_train,y_train)\n",
        "\n",
        "predictions = clf.predict(X_test)\n",
        "\n",
        "print('LG_Accuracy: {}'.format(accuracy_score(y_test,predictions)))"
      ],
      "execution_count": 49,
      "outputs": [
        {
          "output_type": "stream",
          "text": [
            "LG_Accuracy: 0.9565217391304348\n"
          ],
          "name": "stdout"
        }
      ]
    },
    {
      "metadata": {
        "id": "SC_czC5A6dw_",
        "colab_type": "text"
      },
      "cell_type": "markdown",
      "source": [
        "Logistic Regression gave us a about a 95% accuracy. Different models perform differently on differently on different dataset. Therefore it is good practice to try out various models when solving a machine Learning problem. "
      ]
    }
  ]
}